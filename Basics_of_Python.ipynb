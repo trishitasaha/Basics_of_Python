{
  "nbformat": 4,
  "nbformat_minor": 0,
  "metadata": {
    "colab": {
      "provenance": []
    },
    "kernelspec": {
      "name": "python3",
      "display_name": "Python 3"
    },
    "language_info": {
      "name": "python"
    }
  },
  "cells": [
    {
      "cell_type": "code",
      "execution_count": null,
      "metadata": {
        "id": "HtxiunXrmFW6"
      },
      "outputs": [],
      "source": [
        "#1. Why Python?\n",
        "#Easy to learn, powerful programming language\n",
        "#Efficient high-level data structures\n",
        "#Simple but effective approach to object-oriented programming\n",
        "#Extensive standard libraries: freely available and open source\n",
        "#Easy integration of C and C++ codes\n",
        "#Various use cases integration (e.g. Website Development,\n",
        "#Machine Learning, Visualisation / Plotting)\n",
        "\n",
        "#2. How to install Python?\n",
        "#2.1. Choosing Suitable Python Version\n",
        "#a. Python 2.7\n",
        "#b. Python 3.*\n",
        "#c. IPython\n",
        "#d. Latest Version:\n",
        "\n",
        "#Windows - > 3.11.1\n",
        "#Ubuntu - > 3.11 ( 3.10 / 3.8 Pre-installed)\n",
        "#MAC - > 3.11.1\n",
        "#2.2. Popular Python Editors\n",
        "#a. Jupyter Notebook\n",
        "#b. Spyder\n",
        "#c. PyCharm\n",
        "#d. Google Colab (GPU, TPU integration)\n",
        "#2.3. A Compact Python Distribution\n",
        "#Anaconda Distribution: IDE\n",
        "#with a Package Manager (Conda) and Python Interpreter (https://www.anaconda.com/)\n",
        "\n",
        "#2.4 Package Installation\n",
        "#Run the following commands in Terminal (Linux) or in command prompt (Windows):\n",
        "#a. conda install package_name (for anaconda distribution)\n",
        "#b. pip install package_name' (for python 2.7 distribution)\n",
        "#c. pip3 install 'package_name' (for python 3.* distribution)\n",
        "\n",
        "#3. What are Some Popular Packages in Python?\n",
        "#a. NumPy Numerical computing and routines with powerful numerical arrays objects\n",
        "#b. SciPy High-level numerical routines, optimization, regression, interpolation, etc\n",
        "#c. os Path, directory access, System Command\n",
        "#d. SymPy Symbolic computing - algebric maniuplations, calculus, solving equations, etc\n",
        "#e. Matplotlib / Mayavi (for 3D): Data visualization (plotting)\n",
        "#f. Pillow / Scikit-image / OpenCV Image processing\n",
        "#g. SciKit-learn Machine learning\n",
        "#h. Pandas / Statsmodels / Seaborn Statistics\n",
        "#i. Pytorch / Tensorflow / Keras Deep learning\n",
        "#j. nltk Natural language processing\n",
        "#k. Streamlit / wxPython / pyQT GUI toolkit\n",
        "#l. Flask Local Server Connetion Toolkit\n",
        "#m. BeautifulSoup Web scraping\n",
        "\n",
        "#4. References\n",
        "#a. https://www.scipy-lectures.org/intro/intro.html\n",
        "#b. https://docs.python.org/2.7/tutorial/\n",
        "#c. http://jupyter-notebook.readthedocs.io/en/stable/index.html\n",
        "#d. https://pythontips.com/2013/07/30/20-python-libraries-you-cant-live-without/\n",
        "#e. https://activewizards.com/blog/top-15-libraries-for-data-science-in-python/\n",
        "#f. https://colab.research.google.com/notebooks/markdown_guide.ipynb"
      ]
    },
    {
      "cell_type": "markdown",
      "source": [
        "1. Printing and Commenting"
      ],
      "metadata": {
        "id": "ncgUC-GRoGJ7"
      }
    },
    {
      "cell_type": "code",
      "source": [
        "# This is  my first line of code\n",
        "# Commenting technique\n",
        "print('Hello Everyone!')\n",
        "#Apply Newline\n",
        "print(\"Hello\\nWelcome To the Deep Learning Era!\")\n",
        "#Apply Space\n",
        "print(\"Hello There! \\t Welcome to this Event.\")"
      ],
      "metadata": {
        "colab": {
          "base_uri": "https://localhost:8080/"
        },
        "id": "UoDGnx8snWhF",
        "outputId": "0ca43686-27a7-46d8-8bfb-49b910eff7e8"
      },
      "execution_count": null,
      "outputs": [
        {
          "output_type": "stream",
          "name": "stdout",
          "text": [
            "Hello Everyone!\n",
            "Hello\n",
            "Welcome To the Deep Learning Era!\n",
            "Hello There! \t Welcome to this Event.\n"
          ]
        }
      ]
    },
    {
      "cell_type": "markdown",
      "source": [
        "2. Data types in python\n",
        "a. Integers\n",
        "b. Floats\n",
        "c. Character\n",
        "d. Strings\n",
        "e. Boolean\n",
        "f. Complex Numbers"
      ],
      "metadata": {
        "id": "IeVyb842oPaU"
      }
    },
    {
      "cell_type": "code",
      "source": [
        "# a. Integers\n",
        "\n",
        "i = 4\n",
        "print(i)\n",
        "print(type(i))"
      ],
      "metadata": {
        "colab": {
          "base_uri": "https://localhost:8080/"
        },
        "id": "Opega1LxoK8g",
        "outputId": "d96e5c39-5be7-4d69-fd86-75c1bc761065"
      },
      "execution_count": null,
      "outputs": [
        {
          "output_type": "stream",
          "name": "stdout",
          "text": [
            "4\n",
            "<class 'int'>\n"
          ]
        }
      ]
    },
    {
      "cell_type": "code",
      "source": [
        "# b. Floats\n",
        "\n",
        "f = 4.3\n",
        "print(f)\n",
        "print(type(f))"
      ],
      "metadata": {
        "colab": {
          "base_uri": "https://localhost:8080/"
        },
        "id": "wiwGwWa9oV1X",
        "outputId": "cd95346c-a08f-4446-e302-e320ded0c34d"
      },
      "execution_count": null,
      "outputs": [
        {
          "output_type": "stream",
          "name": "stdout",
          "text": [
            "4.3\n",
            "<class 'float'>\n"
          ]
        }
      ]
    },
    {
      "cell_type": "code",
      "source": [
        "# c. Character\n",
        "char = 'a'\n",
        "print(char)\n",
        "print(type(char))"
      ],
      "metadata": {
        "colab": {
          "base_uri": "https://localhost:8080/"
        },
        "id": "6wo76NjToZqj",
        "outputId": "71e020b7-fc7c-4a82-de95-0d4c299f0232"
      },
      "execution_count": null,
      "outputs": [
        {
          "output_type": "stream",
          "name": "stdout",
          "text": [
            "a\n",
            "<class 'str'>\n"
          ]
        }
      ]
    },
    {
      "cell_type": "code",
      "source": [
        "# d. Strings:\n",
        "x = \"I am in ISI\"\n",
        "y = 'is a string.'\n",
        "print(x, y)\n",
        "print(type(x))"
      ],
      "metadata": {
        "colab": {
          "base_uri": "https://localhost:8080/"
        },
        "id": "Y0fYex7oofIU",
        "outputId": "f0adf74c-5dd0-4af5-b26c-27dc87632691"
      },
      "execution_count": null,
      "outputs": [
        {
          "output_type": "stream",
          "name": "stdout",
          "text": [
            "I am in ISI is a string.\n",
            "<class 'str'>\n"
          ]
        }
      ]
    },
    {
      "cell_type": "code",
      "source": [
        "print(x, \" This is a string \")"
      ],
      "metadata": {
        "colab": {
          "base_uri": "https://localhost:8080/"
        },
        "id": "4BfrlMd1okeJ",
        "outputId": "b7292ab5-5621-4d57-cb22-33abe1464b55"
      },
      "execution_count": null,
      "outputs": [
        {
          "output_type": "stream",
          "name": "stdout",
          "text": [
            "I am in ISI  This is a string \n"
          ]
        }
      ]
    },
    {
      "cell_type": "code",
      "source": [
        "print('This is a string two')\n",
        "print(\"This is a string three\")\n",
        "\n",
        "s = \"This is a string\"\n",
        "print(s)\n",
        "print(type(s))"
      ],
      "metadata": {
        "colab": {
          "base_uri": "https://localhost:8080/"
        },
        "id": "ynoOI_hjoo14",
        "outputId": "33d712ac-ad52-4939-a7f9-aab77d311c23"
      },
      "execution_count": null,
      "outputs": [
        {
          "output_type": "stream",
          "name": "stdout",
          "text": [
            "This is a string two\n",
            "This is a string three\n",
            "This is a string\n",
            "<class 'str'>\n"
          ]
        }
      ]
    },
    {
      "cell_type": "code",
      "source": [
        "# f. Boolean\n",
        "Yes = True\n",
        "No = False\n",
        "\n",
        "b = Yes\n",
        "c = No\n",
        "print(b)\n",
        "print(c)\n",
        "print(type(b))\n",
        "print(type(c))\n",
        "print(b + c, type(b+c), type(b or c))\n",
        "print(b or c)"
      ],
      "metadata": {
        "colab": {
          "base_uri": "https://localhost:8080/"
        },
        "id": "n6YrJriPot8M",
        "outputId": "e7c1374c-0a53-4036-aa8d-60eed4dff8cb"
      },
      "execution_count": null,
      "outputs": [
        {
          "output_type": "stream",
          "name": "stdout",
          "text": [
            "True\n",
            "False\n",
            "<class 'bool'>\n",
            "<class 'bool'>\n",
            "1 <class 'int'> <class 'bool'>\n",
            "True\n"
          ]
        }
      ]
    },
    {
      "cell_type": "code",
      "source": [
        "# e. Complex Numbers\n",
        "\n",
        "c1 = 2 + 3j\n",
        "print(c1, type(c1))"
      ],
      "metadata": {
        "colab": {
          "base_uri": "https://localhost:8080/"
        },
        "id": "sB1We0eFo5Wq",
        "outputId": "e85cfc5b-27eb-475c-9853-884572e6713b"
      },
      "execution_count": null,
      "outputs": [
        {
          "output_type": "stream",
          "name": "stdout",
          "text": [
            "(2+3j) <class 'complex'>\n"
          ]
        }
      ]
    },
    {
      "cell_type": "code",
      "source": [
        "c2 = complex(4,5)\n",
        "print(c2, type(c2))"
      ],
      "metadata": {
        "colab": {
          "base_uri": "https://localhost:8080/"
        },
        "id": "sadkEMcKo-_0",
        "outputId": "662eddb2-5f41-4586-ce9c-87d6deeaf928"
      },
      "execution_count": null,
      "outputs": [
        {
          "output_type": "stream",
          "name": "stdout",
          "text": [
            "(4+5j) <class 'complex'>\n"
          ]
        }
      ]
    },
    {
      "cell_type": "code",
      "source": [
        "print(c1)\n",
        "print(c2)\n",
        "print(type(c1), type(c2))"
      ],
      "metadata": {
        "colab": {
          "base_uri": "https://localhost:8080/"
        },
        "id": "ABfJVt-apBsT",
        "outputId": "3d3cbef7-3690-4edb-8968-35a09d656d8f"
      },
      "execution_count": null,
      "outputs": [
        {
          "output_type": "stream",
          "name": "stdout",
          "text": [
            "(2+3j)\n",
            "(4+5j)\n",
            "<class 'complex'> <class 'complex'>\n"
          ]
        }
      ]
    },
    {
      "cell_type": "code",
      "source": [
        "print('\\n')\n",
        "print(c1.real, c2.real)\n",
        "print(c1.imag, c2.imag)"
      ],
      "metadata": {
        "colab": {
          "base_uri": "https://localhost:8080/"
        },
        "id": "4ixDl-SlpSqS",
        "outputId": "ccabade5-03a0-492f-97a6-04c723b60719"
      },
      "execution_count": null,
      "outputs": [
        {
          "output_type": "stream",
          "name": "stdout",
          "text": [
            "\n",
            "\n",
            "2.0 4.0\n",
            "3.0 5.0\n"
          ]
        }
      ]
    },
    {
      "cell_type": "markdown",
      "source": [
        "Exercise 1: Swap two numbers by using a third variable"
      ],
      "metadata": {
        "id": "mU3Yedg1phfV"
      }
    },
    {
      "cell_type": "code",
      "source": [
        "#Swap a and b using a third variable c\n",
        "a = 89\n",
        "b = 65\n",
        "\n",
        "c = a\n",
        "a = b\n",
        "b = c\n",
        "print(a)\n",
        "print(b)"
      ],
      "metadata": {
        "colab": {
          "base_uri": "https://localhost:8080/"
        },
        "id": "V6yJbQrLpVyu",
        "outputId": "4e82f96b-8813-40d7-ab8f-0a003a8eacbf"
      },
      "execution_count": null,
      "outputs": [
        {
          "output_type": "stream",
          "name": "stdout",
          "text": [
            "65\n",
            "89\n"
          ]
        }
      ]
    },
    {
      "cell_type": "markdown",
      "source": [
        "Exercise 2: Swap two numbers without using a third variable"
      ],
      "metadata": {
        "id": "P1I37AdTpoH8"
      }
    },
    {
      "cell_type": "code",
      "source": [
        "#Swap a and b without using a third variable\n",
        "a = 89\n",
        "b = 65\n",
        "\n",
        "a = a + b\n",
        "b = a - b\n",
        "a = a - b\n",
        "\n",
        "print(a)\n",
        "print(b)"
      ],
      "metadata": {
        "colab": {
          "base_uri": "https://localhost:8080/"
        },
        "id": "i1P0vwespmZS",
        "outputId": "4b50d120-7fe6-49e2-cdfd-877c0073fc01"
      },
      "execution_count": null,
      "outputs": [
        {
          "output_type": "stream",
          "name": "stdout",
          "text": [
            "65\n",
            "89\n"
          ]
        }
      ]
    },
    {
      "cell_type": "markdown",
      "source": [
        "3. Taking User Input"
      ],
      "metadata": {
        "id": "XqwJRm2Ipy-F"
      }
    },
    {
      "cell_type": "code",
      "source": [
        "# Use the function input() for Python3 \n",
        "# Use the function raw_input() for Python2\n",
        "\n",
        "inp = input('Input an integer:')\n",
        "print(\"Displaying the input:\", inp)\n",
        "print(type(inp))"
      ],
      "metadata": {
        "colab": {
          "base_uri": "https://localhost:8080/"
        },
        "id": "KNPbqJRqpu-M",
        "outputId": "16bbb44f-bb0b-4b59-d2dd-3bb07233e400"
      },
      "execution_count": null,
      "outputs": [
        {
          "output_type": "stream",
          "name": "stdout",
          "text": [
            "Input an integer:2\n",
            "Displaying the input: 2\n",
            "<class 'str'>\n"
          ]
        }
      ]
    },
    {
      "cell_type": "markdown",
      "source": [
        "4. Type Conversion in Python\n",
        "Types of casting in Python---\n",
        "4.1 Implicit\n",
        "4.2 Explicit"
      ],
      "metadata": {
        "id": "I1DKUKdTp-Tw"
      }
    },
    {
      "cell_type": "code",
      "source": [
        "#How to take integer input directly? Int + String will be an error\n",
        "\n",
        "inp_1 = int(input(\"Enter an Input:\"))\n",
        "inp_2 = input(\"Enter Second Input:\")\n",
        "inp_3 = inp_1 + inp_2\n",
        "print(inp_3)"
      ],
      "metadata": {
        "colab": {
          "base_uri": "https://localhost:8080/",
          "height": 253
        },
        "id": "i_6Eb2iwp2Ni",
        "outputId": "c757a29d-577d-47f8-81be-e41452461c29"
      },
      "execution_count": null,
      "outputs": [
        {
          "name": "stdout",
          "output_type": "stream",
          "text": [
            "Enter an Input:4\n",
            "Enter Second Input:5\n"
          ]
        },
        {
          "output_type": "error",
          "ename": "TypeError",
          "evalue": "ignored",
          "traceback": [
            "\u001b[0;31m---------------------------------------------------------------------------\u001b[0m",
            "\u001b[0;31mTypeError\u001b[0m                                 Traceback (most recent call last)",
            "\u001b[0;32m<ipython-input-17-5a2179c7bbd6>\u001b[0m in \u001b[0;36m<cell line: 5>\u001b[0;34m()\u001b[0m\n\u001b[1;32m      3\u001b[0m \u001b[0minp_1\u001b[0m \u001b[0;34m=\u001b[0m \u001b[0mint\u001b[0m\u001b[0;34m(\u001b[0m\u001b[0minput\u001b[0m\u001b[0;34m(\u001b[0m\u001b[0;34m\"Enter an Input:\"\u001b[0m\u001b[0;34m)\u001b[0m\u001b[0;34m)\u001b[0m\u001b[0;34m\u001b[0m\u001b[0;34m\u001b[0m\u001b[0m\n\u001b[1;32m      4\u001b[0m \u001b[0minp_2\u001b[0m \u001b[0;34m=\u001b[0m \u001b[0minput\u001b[0m\u001b[0;34m(\u001b[0m\u001b[0;34m\"Enter Second Input:\"\u001b[0m\u001b[0;34m)\u001b[0m\u001b[0;34m\u001b[0m\u001b[0;34m\u001b[0m\u001b[0m\n\u001b[0;32m----> 5\u001b[0;31m \u001b[0minp_3\u001b[0m \u001b[0;34m=\u001b[0m \u001b[0minp_1\u001b[0m \u001b[0;34m+\u001b[0m \u001b[0minp_2\u001b[0m\u001b[0;34m\u001b[0m\u001b[0;34m\u001b[0m\u001b[0m\n\u001b[0m\u001b[1;32m      6\u001b[0m \u001b[0mprint\u001b[0m\u001b[0;34m(\u001b[0m\u001b[0minp_3\u001b[0m\u001b[0;34m)\u001b[0m\u001b[0;34m\u001b[0m\u001b[0;34m\u001b[0m\u001b[0m\n",
            "\u001b[0;31mTypeError\u001b[0m: unsupported operand type(s) for +: 'int' and 'str'"
          ]
        }
      ]
    },
    {
      "cell_type": "code",
      "source": [
        "#By default the entered input is String\n",
        "inp = int(inp)\n",
        "print(type(inp))\n",
        "print(inp)"
      ],
      "metadata": {
        "colab": {
          "base_uri": "https://localhost:8080/"
        },
        "id": "Ijofxr1aqJY9",
        "outputId": "9be50799-7f04-47dd-cb70-4077cfdfafaa"
      },
      "execution_count": null,
      "outputs": [
        {
          "output_type": "stream",
          "name": "stdout",
          "text": [
            "<class 'int'>\n",
            "2\n"
          ]
        }
      ]
    },
    {
      "cell_type": "code",
      "source": [
        "#How to take integer input directly?\n",
        "\n",
        "inp_1 = int(input(\"Enter an Input:\"))\n",
        "\n",
        "inp_2 = int(input(\"Enter Second Input:\"))\n",
        "\n",
        "inp_3 = inp_1 + inp_2\n",
        "print(inp_3)"
      ],
      "metadata": {
        "colab": {
          "base_uri": "https://localhost:8080/"
        },
        "id": "yTdGu8U-qQJl",
        "outputId": "7d7d5918-0b65-43d8-bf57-76ac3d6af292"
      },
      "execution_count": null,
      "outputs": [
        {
          "output_type": "stream",
          "name": "stdout",
          "text": [
            "Enter an Input:1\n",
            "Enter Second Input:2\n",
            "3\n"
          ]
        }
      ]
    },
    {
      "cell_type": "code",
      "source": [
        "# converting to integers\n",
        "print(int(inp_1), type(int(inp_1)))\n",
        "# converting to floats\n",
        "print(float(inp_1), type(float(inp_2)))"
      ],
      "metadata": {
        "colab": {
          "base_uri": "https://localhost:8080/"
        },
        "id": "0X3K_i2CqSm9",
        "outputId": "1064d5ad-38c3-4f1c-8332-2faae923aa6c"
      },
      "execution_count": null,
      "outputs": [
        {
          "output_type": "stream",
          "name": "stdout",
          "text": [
            "1 <class 'int'>\n",
            "1.0 <class 'float'>\n"
          ]
        }
      ]
    },
    {
      "cell_type": "code",
      "source": [
        "# type conversion and input in one line\n",
        "ip2 = input('Enter an integer:')\n",
        "x = int(ip2)\n",
        "print(ip2, type(ip2), x, type(x))"
      ],
      "metadata": {
        "colab": {
          "base_uri": "https://localhost:8080/"
        },
        "id": "RO8qKha_qYsF",
        "outputId": "59f75e3c-8575-4714-bff6-5de78b67ba2e"
      },
      "execution_count": null,
      "outputs": [
        {
          "output_type": "stream",
          "name": "stdout",
          "text": [
            "Enter an integer:4\n",
            "4 <class 'str'> 4 <class 'int'>\n"
          ]
        }
      ]
    },
    {
      "cell_type": "code",
      "source": [
        "# conversions to strings\n",
        "i = 10\n",
        "print(i, type(i))\n",
        "print(str(i), type(str(i)))"
      ],
      "metadata": {
        "colab": {
          "base_uri": "https://localhost:8080/"
        },
        "id": "DduhgpIkqeDA",
        "outputId": "0bb1d3ed-59f1-4919-9833-8fd42ad92463"
      },
      "execution_count": null,
      "outputs": [
        {
          "output_type": "stream",
          "name": "stdout",
          "text": [
            "10 <class 'int'>\n",
            "10 <class 'str'>\n"
          ]
        }
      ]
    },
    {
      "cell_type": "code",
      "source": [
        "f = 0.5\n",
        "print(f, type(f))\n",
        "print(str(f), type(str(f)))"
      ],
      "metadata": {
        "colab": {
          "base_uri": "https://localhost:8080/"
        },
        "id": "8sFXh-f3qht6",
        "outputId": "76fe5204-12f4-408f-f644-f5fd9c30d5b4"
      },
      "execution_count": null,
      "outputs": [
        {
          "output_type": "stream",
          "name": "stdout",
          "text": [
            "0.5 <class 'float'>\n",
            "0.5 <class 'str'>\n"
          ]
        }
      ]
    },
    {
      "cell_type": "code",
      "source": [
        "s3 = '100+2j'\n",
        "print(s3, type(s3), complex(s3), type(complex(s3)))"
      ],
      "metadata": {
        "colab": {
          "base_uri": "https://localhost:8080/"
        },
        "id": "ebduz9vFqmsc",
        "outputId": "603f1464-4674-443c-ed36-57065cf0779b"
      },
      "execution_count": null,
      "outputs": [
        {
          "output_type": "stream",
          "name": "stdout",
          "text": [
            "100+2j <class 'str'> (100+2j) <class 'complex'>\n"
          ]
        }
      ]
    },
    {
      "cell_type": "code",
      "source": [
        "# Implicit type-conversions\n",
        "\n",
        "b1 = True\n",
        "b2 = False\n",
        "print(b1 + b2 + b1 + b1)"
      ],
      "metadata": {
        "colab": {
          "base_uri": "https://localhost:8080/"
        },
        "id": "X6fYGIilqrXz",
        "outputId": "0af6f11c-efa0-440b-a104-cfcabbc8e30d"
      },
      "execution_count": null,
      "outputs": [
        {
          "output_type": "stream",
          "name": "stdout",
          "text": [
            "3\n"
          ]
        }
      ]
    },
    {
      "cell_type": "code",
      "source": [
        "# Zero is False, non-zeros values are True\n",
        "\n",
        "print(bool(0))\n",
        "print(bool(100))\n",
        "print(bool(-100))"
      ],
      "metadata": {
        "colab": {
          "base_uri": "https://localhost:8080/"
        },
        "id": "SmiukV4Aqu-c",
        "outputId": "748223d1-1cd2-402b-8850-4a37ddfcc16b"
      },
      "execution_count": null,
      "outputs": [
        {
          "output_type": "stream",
          "name": "stdout",
          "text": [
            "False\n",
            "True\n",
            "True\n"
          ]
        }
      ]
    },
    {
      "cell_type": "code",
      "source": [
        "a= True\n",
        "b= True\n",
        "c = False\n",
        "print(a, b, type(a), type(b), float(a), int(b), float(c), str(a))"
      ],
      "metadata": {
        "colab": {
          "base_uri": "https://localhost:8080/"
        },
        "id": "nOeuPWnAqzxA",
        "outputId": "1ee481e9-5aa2-4867-f854-e4d858c84d99"
      },
      "execution_count": null,
      "outputs": [
        {
          "output_type": "stream",
          "name": "stdout",
          "text": [
            "True True <class 'bool'> <class 'bool'> 1.0 1 0.0 True\n"
          ]
        }
      ]
    },
    {
      "cell_type": "code",
      "source": [
        "a= True\n",
        "b= True\n",
        "x = a + b\n",
        "print(x,type(x))"
      ],
      "metadata": {
        "colab": {
          "base_uri": "https://localhost:8080/"
        },
        "id": "hiw4qKt4q3lh",
        "outputId": "98b42244-9f6f-43e3-dffc-16743efc2fdb"
      },
      "execution_count": null,
      "outputs": [
        {
          "output_type": "stream",
          "name": "stdout",
          "text": [
            "2 <class 'int'>\n"
          ]
        }
      ]
    },
    {
      "cell_type": "markdown",
      "source": [
        "Printing format"
      ],
      "metadata": {
        "id": "c477JAzJrSgv"
      }
    },
    {
      "cell_type": "code",
      "source": [
        "# Some ways to print\n",
        "a = 5.0\n",
        "b = 6.0\n",
        "print(a)\n",
        "print(b)\n",
        "print(a,b)"
      ],
      "metadata": {
        "colab": {
          "base_uri": "https://localhost:8080/"
        },
        "id": "S2Rpy3cFrNo6",
        "outputId": "ef3d4720-2f5f-471b-bc1a-124f58154d06"
      },
      "execution_count": null,
      "outputs": [
        {
          "output_type": "stream",
          "name": "stdout",
          "text": [
            "5.0\n",
            "6.0\n",
            "5.0 6.0\n"
          ]
        }
      ]
    },
    {
      "cell_type": "code",
      "source": [
        "print('This', a, 'is a', b)\n",
        "print('This {} is a {}'.format(a , b))"
      ],
      "metadata": {
        "colab": {
          "base_uri": "https://localhost:8080/"
        },
        "id": "2eqIZSWCrXWG",
        "outputId": "32cc45c6-60c6-4995-a328-95ef3896fe27"
      },
      "execution_count": null,
      "outputs": [
        {
          "output_type": "stream",
          "name": "stdout",
          "text": [
            "This 5.0 is a 6.0\n",
            "This 5.0 is a 6.0\n"
          ]
        }
      ]
    },
    {
      "cell_type": "code",
      "source": [
        "print('This {} is a {}'.format(a , b))\n",
        "print('The number {} is greater than the number {}.'.format(b , a))"
      ],
      "metadata": {
        "colab": {
          "base_uri": "https://localhost:8080/"
        },
        "id": "6JeH5YqHraPn",
        "outputId": "32807799-76b8-473a-9b26-6afd48a4988b"
      },
      "execution_count": null,
      "outputs": [
        {
          "output_type": "stream",
          "name": "stdout",
          "text": [
            "This 5.0 is a 6.0\n",
            "The number 6.0 is greater than the number 5.0.\n"
          ]
        }
      ]
    },
    {
      "cell_type": "code",
      "source": [
        "# %d -> integer\n",
        "# %f -> float\n",
        "# %s -> string\n",
        "print('This %.2f is a %.2f' %(a,b))\n",
        "print('This %f is a %f' %(a,b))\n",
        "print('This %s is a %s' %(a,b))\n",
        "print('This %d is a %d' %(a,b))"
      ],
      "metadata": {
        "colab": {
          "base_uri": "https://localhost:8080/"
        },
        "id": "tu3-OIk7rer9",
        "outputId": "428a4ce4-df89-490c-f68b-05207474b44c"
      },
      "execution_count": null,
      "outputs": [
        {
          "output_type": "stream",
          "name": "stdout",
          "text": [
            "This 5.00 is a 6.00\n",
            "This 5.000000 is a 6.000000\n",
            "This 5.0 is a 6.0\n",
            "This 5 is a 6\n"
          ]
        }
      ]
    },
    {
      "cell_type": "markdown",
      "source": [
        "Exercise 3: Take as input an integer and a float. Print the integer and the float. Also print their sum along with the type of the sum."
      ],
      "metadata": {
        "id": "vpc36HLFrmFr"
      }
    },
    {
      "cell_type": "code",
      "source": [
        "i = int(input('Enter an integer:'))\n",
        "f = float(input('Enter a float:'))"
      ],
      "metadata": {
        "colab": {
          "base_uri": "https://localhost:8080/"
        },
        "id": "DQDvQaKRri4a",
        "outputId": "62889e80-4545-49da-bee7-f6161005837d"
      },
      "execution_count": null,
      "outputs": [
        {
          "name": "stdout",
          "output_type": "stream",
          "text": [
            "Enter an integer:4\n",
            "Enter a float:5.2\n"
          ]
        }
      ]
    },
    {
      "cell_type": "code",
      "source": [
        "#int and float addition results float\n",
        "s = i + f\n",
        "\n",
        "print(s, type(s))"
      ],
      "metadata": {
        "colab": {
          "base_uri": "https://localhost:8080/"
        },
        "id": "6QbE9kbQruP-",
        "outputId": "71923a7f-c569-4088-8178-757f2c289690"
      },
      "execution_count": null,
      "outputs": [
        {
          "output_type": "stream",
          "name": "stdout",
          "text": [
            "9.2 <class 'float'>\n"
          ]
        }
      ]
    },
    {
      "cell_type": "code",
      "source": [
        "x, y = input('Enter an integer:').split()"
      ],
      "metadata": {
        "colab": {
          "base_uri": "https://localhost:8080/"
        },
        "id": "_iS_HMvzryxs",
        "outputId": "e0ff68ec-f692-401b-dfad-bc9611d07023"
      },
      "execution_count": null,
      "outputs": [
        {
          "name": "stdout",
          "output_type": "stream",
          "text": [
            "Enter an integer:75 68\n"
          ]
        }
      ]
    },
    {
      "cell_type": "code",
      "source": [
        "print(x,y)"
      ],
      "metadata": {
        "colab": {
          "base_uri": "https://localhost:8080/"
        },
        "id": "KIazC6g4r1Xq",
        "outputId": "339551f7-7476-4e18-9bbf-ef97ceb2cbe7"
      },
      "execution_count": null,
      "outputs": [
        {
          "output_type": "stream",
          "name": "stdout",
          "text": [
            "75 68\n"
          ]
        }
      ]
    },
    {
      "cell_type": "markdown",
      "source": [
        "5. Operators in python\n",
        "a. Arithmetic operators\n",
        "b. Assignments operators\n",
        "c. Relational operators\n",
        "d. Logical operators\n",
        "e. Bitwise operators\n",
        "f. Membership operators\n",
        "g. Identity operators\n",
        "\n",
        "5.1 Arithmetic operators"
      ],
      "metadata": {
        "id": "pUS9wf7kr_t4"
      }
    },
    {
      "cell_type": "code",
      "source": [
        "# Arithmetic Operators\n",
        "\n",
        "n1 = 6.5\n",
        "n2 = 4\n",
        "print(type(6.5), type(4))"
      ],
      "metadata": {
        "colab": {
          "base_uri": "https://localhost:8080/"
        },
        "id": "JRhUzYK5r-Qe",
        "outputId": "80343e79-813e-4bb7-c2ba-eb04a36d9b33"
      },
      "execution_count": null,
      "outputs": [
        {
          "output_type": "stream",
          "name": "stdout",
          "text": [
            "<class 'float'> <class 'int'>\n"
          ]
        }
      ]
    },
    {
      "cell_type": "code",
      "source": [
        "print('Add', n1 + n2)\n",
        "print('Subtract',n1 - n2)\n",
        "print('Multiply',n1 * n2)\n",
        "print('Division',n1 / n2)"
      ],
      "metadata": {
        "colab": {
          "base_uri": "https://localhost:8080/"
        },
        "id": "0jteYDw2sXoW",
        "outputId": "ffbf534a-aa6e-499d-92b3-8f84c2d9e1b2"
      },
      "execution_count": null,
      "outputs": [
        {
          "output_type": "stream",
          "name": "stdout",
          "text": [
            "Add 10.5\n",
            "Subtract 2.5\n",
            "Multiply 26.0\n",
            "Division 1.625\n"
          ]
        }
      ]
    },
    {
      "cell_type": "code",
      "source": [
        "sum_1 = n1 + n2\n",
        "subtract = n1 - n2\n",
        "print('Add', sum_1, \"; Substract\", subtract)"
      ],
      "metadata": {
        "colab": {
          "base_uri": "https://localhost:8080/"
        },
        "id": "96yJ_55-saxf",
        "outputId": "ee7f459a-775f-4a00-d455-a1bf1485b37f"
      },
      "execution_count": null,
      "outputs": [
        {
          "output_type": "stream",
          "name": "stdout",
          "text": [
            "Add 10.5 ; Substract 2.5\n"
          ]
        }
      ]
    },
    {
      "cell_type": "code",
      "source": [
        "print('Remainder (Division)',n1 % n2) # Remainder\n",
        "print('Floor Division',n1 // n2) # Quotient\n",
        "print('Normal Division',n1/n2) "
      ],
      "metadata": {
        "colab": {
          "base_uri": "https://localhost:8080/"
        },
        "id": "MoDJS0-ssf1M",
        "outputId": "1b7f960d-6ebb-4b0a-f19e-c3cd4753707a"
      },
      "execution_count": null,
      "outputs": [
        {
          "output_type": "stream",
          "name": "stdout",
          "text": [
            "Remainder (Division) 2.5\n",
            "Floor Division 1.0\n",
            "Normal Division 1.625\n"
          ]
        }
      ]
    },
    {
      "cell_type": "code",
      "source": [
        "#Exponentiation\n",
        "\n",
        "print('Square',n2 ** 2)\n",
        "print('Root',n2 ** 0.5)\n",
        "print('\\n')\n",
        "print('Square Inverse',n2 ** -2)"
      ],
      "metadata": {
        "colab": {
          "base_uri": "https://localhost:8080/"
        },
        "id": "frMa3Z2ksiqw",
        "outputId": "b0f7d81a-f3e6-4aa0-cfe6-03698ba21861"
      },
      "execution_count": null,
      "outputs": [
        {
          "output_type": "stream",
          "name": "stdout",
          "text": [
            "Square 16\n",
            "Root 2.0\n",
            "\n",
            "\n",
            "Square Inverse 0.0625\n"
          ]
        }
      ]
    },
    {
      "cell_type": "markdown",
      "source": [
        "5.2 Assignment operators"
      ],
      "metadata": {
        "id": "8lmLRaVdsqM7"
      }
    },
    {
      "cell_type": "code",
      "source": [
        "# Assignment Operators\n",
        "\n",
        "n3 = 10\n",
        "n4 = 6\n",
        "print(n3, n4)"
      ],
      "metadata": {
        "colab": {
          "base_uri": "https://localhost:8080/"
        },
        "id": "oXLwj1n-slIU",
        "outputId": "89b4b370-faf9-4c24-d5d5-bf46433038bb"
      },
      "execution_count": null,
      "outputs": [
        {
          "output_type": "stream",
          "name": "stdout",
          "text": [
            "10 6\n"
          ]
        }
      ]
    },
    {
      "cell_type": "code",
      "source": [
        "n3, n4, n5, n6, n7, n8 = 6, 10, 4.5, 'ISI', True, 10.9\n",
        "print(n3, n4, n5, n6, n7)\n",
        "print(type(n3), type(n7))"
      ],
      "metadata": {
        "colab": {
          "base_uri": "https://localhost:8080/"
        },
        "id": "Ho_KpWUdsuxf",
        "outputId": "a8d72377-1bb2-448a-8bfe-703f7e78a3ac"
      },
      "execution_count": null,
      "outputs": [
        {
          "output_type": "stream",
          "name": "stdout",
          "text": [
            "6 10 4.5 ISI True\n",
            "<class 'int'> <class 'bool'>\n"
          ]
        }
      ]
    },
    {
      "cell_type": "code",
      "source": [
        "n3 += n4 # n3 = n3 + n4\n",
        "print(n3)"
      ],
      "metadata": {
        "colab": {
          "base_uri": "https://localhost:8080/"
        },
        "id": "VhJzN366swf-",
        "outputId": "9a0e282d-49f2-4710-a8f1-d905e76bcc49"
      },
      "execution_count": null,
      "outputs": [
        {
          "output_type": "stream",
          "name": "stdout",
          "text": [
            "16\n"
          ]
        }
      ]
    },
    {
      "cell_type": "code",
      "source": [
        "n3 -= n4 # n3 = n3 - n4\n",
        "print(n3)\n",
        "n3 *= n4 # n3 = n3 * n4\n",
        "print(n3)\n",
        "n3 /= n4 # n3 = n3 / n4\n",
        "print(n3)\n",
        "n3 %= n4 # n3 = n3 % n4\n",
        "print(n3)"
      ],
      "metadata": {
        "colab": {
          "base_uri": "https://localhost:8080/"
        },
        "id": "2aX3dmUssy8F",
        "outputId": "76352353-0812-4ac2-b5e2-ec31ce84f44f"
      },
      "execution_count": null,
      "outputs": [
        {
          "output_type": "stream",
          "name": "stdout",
          "text": [
            "6\n",
            "60\n",
            "6.0\n",
            "6.0\n"
          ]
        }
      ]
    },
    {
      "cell_type": "code",
      "source": [
        "n3 = 100\n",
        "print(n3,n4)\n",
        "n3 //= n4 # n3 = n3 // n4\n",
        "print(n3)\n",
        "n3 **= n4 # n3 = n3 ** n4\n",
        "print(n3)"
      ],
      "metadata": {
        "colab": {
          "base_uri": "https://localhost:8080/"
        },
        "id": "j1DqTWZAs1FS",
        "outputId": "06be808b-8a52-4f98-fe42-637c488df108"
      },
      "execution_count": null,
      "outputs": [
        {
          "output_type": "stream",
          "name": "stdout",
          "text": [
            "100 10\n",
            "10\n",
            "10000000000\n"
          ]
        }
      ]
    },
    {
      "cell_type": "markdown",
      "source": [
        "5.3 Relational operators"
      ],
      "metadata": {
        "id": "BAH-S-nCtBAX"
      }
    },
    {
      "cell_type": "code",
      "source": [
        "# Relational Operators\n",
        "\n",
        "n1 = 10\n",
        "n2 = 10.5\n",
        "n3 = complex(2,3)\n",
        "n4= False\n",
        "print(type(n1), type(n2))"
      ],
      "metadata": {
        "colab": {
          "base_uri": "https://localhost:8080/"
        },
        "id": "7tOlgwOcs6kC",
        "outputId": "c1a11aad-7d38-49c7-8d90-6c0d8bc17a7e"
      },
      "execution_count": null,
      "outputs": [
        {
          "output_type": "stream",
          "name": "stdout",
          "text": [
            "<class 'int'> <class 'float'>\n"
          ]
        }
      ]
    },
    {
      "cell_type": "code",
      "source": [
        "print(n1 == n3)"
      ],
      "metadata": {
        "colab": {
          "base_uri": "https://localhost:8080/"
        },
        "id": "CPOXkUPgtU2B",
        "outputId": "44662662-3127-4954-d6a7-5180af4d3dff"
      },
      "execution_count": null,
      "outputs": [
        {
          "output_type": "stream",
          "name": "stdout",
          "text": [
            "False\n"
          ]
        }
      ]
    },
    {
      "cell_type": "code",
      "source": [
        "#int and float matches\n",
        "n2 = 10.0\n",
        "print(n1==n2)"
      ],
      "metadata": {
        "colab": {
          "base_uri": "https://localhost:8080/"
        },
        "id": "KL0pFTiItWyb",
        "outputId": "21330bb9-b457-454d-c426-3a714283b37a"
      },
      "execution_count": null,
      "outputs": [
        {
          "output_type": "stream",
          "name": "stdout",
          "text": [
            "True\n"
          ]
        }
      ]
    },
    {
      "cell_type": "code",
      "source": [
        "#is it not equal?\n",
        "print(n1 != n3)"
      ],
      "metadata": {
        "colab": {
          "base_uri": "https://localhost:8080/"
        },
        "id": "waverwyhtapQ",
        "outputId": "d337604a-cc8b-40bc-d3a3-f5783fdf373e"
      },
      "execution_count": null,
      "outputs": [
        {
          "output_type": "stream",
          "name": "stdout",
          "text": [
            "True\n"
          ]
        }
      ]
    },
    {
      "cell_type": "code",
      "source": [
        "print(n1 > n3.real)\n",
        "print(n1 < n3.real)\n",
        "print(n1 >= n3.real)\n",
        "print(n1 <= n3.real)"
      ],
      "metadata": {
        "colab": {
          "base_uri": "https://localhost:8080/"
        },
        "id": "ZkfkzpTktdRP",
        "outputId": "1ff1796c-4357-41be-fda3-e66df4c60f0b"
      },
      "execution_count": null,
      "outputs": [
        {
          "output_type": "stream",
          "name": "stdout",
          "text": [
            "True\n",
            "False\n",
            "True\n",
            "False\n"
          ]
        }
      ]
    },
    {
      "cell_type": "markdown",
      "source": [
        "5.4 Logical operators"
      ],
      "metadata": {
        "id": "S31HLJumtyX8"
      }
    },
    {
      "cell_type": "code",
      "source": [
        "# Logical Operators\n",
        "\n",
        "b1 = True\n",
        "b2 = False\n",
        "print(b1, b2)"
      ],
      "metadata": {
        "colab": {
          "base_uri": "https://localhost:8080/"
        },
        "id": "h_JEus2httok",
        "outputId": "1f890d48-3c63-49aa-f921-4d826ace261c"
      },
      "execution_count": null,
      "outputs": [
        {
          "output_type": "stream",
          "name": "stdout",
          "text": [
            "True False\n"
          ]
        }
      ]
    },
    {
      "cell_type": "code",
      "source": [
        "b3 = not b2\n",
        "print(not b1, b3)"
      ],
      "metadata": {
        "colab": {
          "base_uri": "https://localhost:8080/"
        },
        "id": "aySHrg9Kt2Q5",
        "outputId": "2d8fee3f-bb87-4e49-afa3-54a33554edd8"
      },
      "execution_count": null,
      "outputs": [
        {
          "output_type": "stream",
          "name": "stdout",
          "text": [
            "False True\n"
          ]
        }
      ]
    },
    {
      "cell_type": "code",
      "source": [
        "#Truth Table of AND\n",
        "print('Input-1 | Input-2 | Output')\n",
        "print('-------------------------')\n",
        "print(b1, b2, b1 and b2)\n",
        "print(b1, not b2, b1 and not b2)\n",
        "print(not b1, not b2, not b1 and not b2)\n",
        "print(not b1, b2, not b1 and b2)"
      ],
      "metadata": {
        "colab": {
          "base_uri": "https://localhost:8080/"
        },
        "id": "1XutYSOAt4XQ",
        "outputId": "e57e3337-4394-4ff9-8200-549963de3529"
      },
      "execution_count": null,
      "outputs": [
        {
          "output_type": "stream",
          "name": "stdout",
          "text": [
            "Input-1 | Input-2 | Output\n",
            "-------------------------\n",
            "True False False\n",
            "True True True\n",
            "False True False\n",
            "False False False\n"
          ]
        }
      ]
    },
    {
      "cell_type": "markdown",
      "source": [
        "Practice: Prepare the truth tables for the OR, NAND, NOR, XOR, XNOR operations. Then you display the truth values of each operations in python."
      ],
      "metadata": {
        "id": "QtzyhJTYuLon"
      }
    },
    {
      "cell_type": "code",
      "source": [
        "print(True + False)\n",
        "print('\\n')"
      ],
      "metadata": {
        "colab": {
          "base_uri": "https://localhost:8080/"
        },
        "id": "Mgon8egiuCHZ",
        "outputId": "16286502-0a2b-428e-85f5-772183f8225a"
      },
      "execution_count": null,
      "outputs": [
        {
          "output_type": "stream",
          "name": "stdout",
          "text": [
            "1\n",
            "\n",
            "\n"
          ]
        }
      ]
    },
    {
      "cell_type": "markdown",
      "source": [
        "Exercise 4: Take four numbers as input. Display whether the sum of the first two numbers is greater than or equal to the sum of the latter two numbers"
      ],
      "metadata": {
        "id": "BVoAomItuUUU"
      }
    },
    {
      "cell_type": "code",
      "source": [
        "ap1 = float(input('Enter the 1st Integer:'))\n",
        "ap2 = float(input('Enter the 2nd Integer:'))\n",
        "ap3 = float(input('Enter the 3rd Integer:'))\n",
        "ap4 = float(input('Enter the 4th Integer:'))\n",
        "\n",
        "x = ap1 + ap2\n",
        "y = ap3 + ap4\n",
        "print(x >= y)"
      ],
      "metadata": {
        "colab": {
          "base_uri": "https://localhost:8080/"
        },
        "id": "A7FHDuY-uPG3",
        "outputId": "1771da67-9e68-4ace-b866-f61374fbd07c"
      },
      "execution_count": null,
      "outputs": [
        {
          "output_type": "stream",
          "name": "stdout",
          "text": [
            "Enter the 1st Integer:1\n",
            "Enter the 2nd Integer:5\n",
            "Enter the 3rd Integer:7\n",
            "Enter the 4th Integer:8\n",
            "False\n"
          ]
        }
      ]
    },
    {
      "cell_type": "markdown",
      "source": [
        "5.5 Bitwise operators in Python"
      ],
      "metadata": {
        "id": "_pipcW50u47l"
      }
    },
    {
      "cell_type": "code",
      "source": [
        "# Bitwise Operators\n",
        "\n",
        "i1 = 15 # 1111\n",
        "i2 = 6 #  0110"
      ],
      "metadata": {
        "id": "5YQk_GqXuzSp"
      },
      "execution_count": null,
      "outputs": []
    },
    {
      "cell_type": "code",
      "source": [
        "#bitwise and operation\n",
        "print(i1 & i2)\n",
        "\n",
        "#1111\n",
        "#bitwise or operation\n",
        "print(i1 | i2) \n",
        "\n",
        "#1001\n",
        "# bitwise xor operator\n",
        "print(i1 ^ i2) \n",
        "\n",
        "\n",
        "# one's complement\n",
        "print(~i1) \n",
        "\n",
        "#111100\n",
        "#left shift\n",
        "print(i1 << 2) \n",
        "\n",
        "#0011\n",
        "#right shift\n",
        "print(i1 >> 2) "
      ],
      "metadata": {
        "colab": {
          "base_uri": "https://localhost:8080/"
        },
        "id": "nTj_-vOnvfcP",
        "outputId": "9e3da2ac-83a9-4263-f062-8a35ec06dff7"
      },
      "execution_count": null,
      "outputs": [
        {
          "output_type": "stream",
          "name": "stdout",
          "text": [
            "6\n",
            "15\n",
            "9\n",
            "-16\n",
            "60\n",
            "3\n"
          ]
        }
      ]
    },
    {
      "cell_type": "markdown",
      "source": [
        "Exercise 5: Take three numbers as input. Display the result of a bitwise and operation on the first two numbers. Also display the result of performing a two's complement on the third number."
      ],
      "metadata": {
        "id": "j2topUeVvtBy"
      }
    },
    {
      "cell_type": "markdown",
      "source": [
        "5.6 Membership operators"
      ],
      "metadata": {
        "id": "KOK5dDRYvuXZ"
      }
    },
    {
      "cell_type": "code",
      "source": [
        "# Membership Operators\n",
        "\n",
        "#Whether present in String\n",
        "print('str' in 'string')\n",
        "\n",
        "#Whether not present in String\n",
        "print('ni' not in 'string')"
      ],
      "metadata": {
        "colab": {
          "base_uri": "https://localhost:8080/"
        },
        "id": "z7490WyPvkkC",
        "outputId": "29e27723-cf3b-4f17-9030-14145615196e"
      },
      "execution_count": null,
      "outputs": [
        {
          "output_type": "stream",
          "name": "stdout",
          "text": [
            "True\n",
            "True\n"
          ]
        }
      ]
    },
    {
      "cell_type": "code",
      "source": [
        "print('not' in 'convenient')\n",
        "print('not' not in 'convenient')"
      ],
      "metadata": {
        "colab": {
          "base_uri": "https://localhost:8080/"
        },
        "id": "Mu8WAL15v0DR",
        "outputId": "0354cda1-27cc-4313-ed01-27417c0e9ac3"
      },
      "execution_count": null,
      "outputs": [
        {
          "output_type": "stream",
          "name": "stdout",
          "text": [
            "False\n",
            "True\n"
          ]
        }
      ]
    },
    {
      "cell_type": "markdown",
      "source": [
        "5.7 Identity operators"
      ],
      "metadata": {
        "id": "aOpXMliQwIqQ"
      }
    },
    {
      "cell_type": "code",
      "source": [
        "# 7. Identity Operators\n",
        "string1 = 'abcd'\n",
        "string2 = 'abcd'\n",
        "\n",
        "print(string1 is string2)"
      ],
      "metadata": {
        "colab": {
          "base_uri": "https://localhost:8080/"
        },
        "id": "NzyPJ8PFv2n2",
        "outputId": "f4945471-bb5a-4fd8-c249-de7c81079f8d"
      },
      "execution_count": null,
      "outputs": [
        {
          "output_type": "stream",
          "name": "stdout",
          "text": [
            "True\n"
          ]
        }
      ]
    },
    {
      "cell_type": "code",
      "source": [
        "string1 is string2"
      ],
      "metadata": {
        "colab": {
          "base_uri": "https://localhost:8080/"
        },
        "id": "Gx-3TBErwOFA",
        "outputId": "04769509-4f5a-4c69-d59b-5d10937e8a6a"
      },
      "execution_count": null,
      "outputs": [
        {
          "output_type": "execute_result",
          "data": {
            "text/plain": [
              "True"
            ]
          },
          "metadata": {},
          "execution_count": 64
        }
      ]
    },
    {
      "cell_type": "code",
      "source": [
        "a = 'hen'\n",
        "b = 'hen'\n",
        "usr = input('Input a String: ')\n",
        "\n",
        "print(a is b)"
      ],
      "metadata": {
        "colab": {
          "base_uri": "https://localhost:8080/"
        },
        "id": "stqzyOfqwUU0",
        "outputId": "8e90bef5-9a1d-494b-ade1-61714afc56f5"
      },
      "execution_count": null,
      "outputs": [
        {
          "output_type": "stream",
          "name": "stdout",
          "text": [
            "Input a String: Hen\n",
            "True\n"
          ]
        }
      ]
    },
    {
      "cell_type": "code",
      "source": [
        "print('The answer is:',a is usr)"
      ],
      "metadata": {
        "colab": {
          "base_uri": "https://localhost:8080/"
        },
        "id": "AVGc8LEGwut5",
        "outputId": "85581cf7-9f88-410a-ffb3-9abbf999f724"
      },
      "execution_count": null,
      "outputs": [
        {
          "output_type": "stream",
          "name": "stdout",
          "text": [
            "The answer is: False\n"
          ]
        }
      ]
    },
    {
      "cell_type": "code",
      "source": [
        "print(id(a))\n",
        "print(id(b))\n",
        "print(id(usr))\n",
        "\n",
        "#is is use to check whether the two numbers are instances of the same object"
      ],
      "metadata": {
        "colab": {
          "base_uri": "https://localhost:8080/"
        },
        "id": "Fk4w-LAWwy9S",
        "outputId": "a8d80f42-0693-4125-d40e-eef9fc02252d"
      },
      "execution_count": null,
      "outputs": [
        {
          "output_type": "stream",
          "name": "stdout",
          "text": [
            "140414108577968\n",
            "140414108577968\n",
            "140413844606192\n"
          ]
        }
      ]
    },
    {
      "cell_type": "code",
      "source": [
        "print(a)\n",
        "print(usr)\n",
        "a is usr"
      ],
      "metadata": {
        "colab": {
          "base_uri": "https://localhost:8080/"
        },
        "id": "2ruU-IVGw2Nx",
        "outputId": "c68fb008-615b-412c-d8c8-4bc8a91d0a08"
      },
      "execution_count": null,
      "outputs": [
        {
          "output_type": "stream",
          "name": "stdout",
          "text": [
            "hen\n",
            "Hen\n"
          ]
        },
        {
          "output_type": "execute_result",
          "data": {
            "text/plain": [
              "False"
            ]
          },
          "metadata": {},
          "execution_count": 69
        }
      ]
    },
    {
      "cell_type": "markdown",
      "source": [
        "Excercise 6: Till now what we have studied(without using if and loops) find the maximum and minimum number of given any two numbers."
      ],
      "metadata": {
        "id": "DA9IhI_JxqUX"
      }
    },
    {
      "cell_type": "code",
      "source": [
        "a = 45.0\n",
        "b = 32.0\n",
        "\n",
        "sum = a + b\n",
        "diff = abs(a - b)\n",
        "\n",
        "max = 0.5*(sum + diff)\n",
        "min = 0.5*(sum - diff)\n",
        "\n",
        "print(max)\n",
        "print(min)"
      ],
      "metadata": {
        "colab": {
          "base_uri": "https://localhost:8080/"
        },
        "id": "bmEKrrfhw768",
        "outputId": "196b6d00-90a2-4a0e-b583-251c41425959"
      },
      "execution_count": null,
      "outputs": [
        {
          "output_type": "stream",
          "name": "stdout",
          "text": [
            "45.0\n",
            "32.0\n"
          ]
        }
      ]
    },
    {
      "cell_type": "markdown",
      "source": [
        "6. String Operations\n",
        "\n",
        "lower() converts the string into lower case\n",
        "\n",
        "upper() converts the string into UPPER case\n",
        "\n",
        "swapcase() converts lower to UPPER and vice versa\n",
        "\n",
        "count() count how many times a specific value occurs within string\n",
        "\n",
        "index() search for a specific value and returns its index\n",
        "\n",
        "split() split the string into different parts based on seperator\n",
        "\n",
        "More Functions:\n",
        "find(), isascii(), isdecimal(), isspace(),replace(), splitlines()"
      ],
      "metadata": {
        "id": "xR5zo8RMyasY"
      }
    },
    {
      "cell_type": "code",
      "source": [
        "inp_string = input()\n",
        "print(inp_string.lower())\n",
        "print(inp_string.upper())\n",
        "print(inp_string.swapcase())\n",
        "print(inp_string.count('a'))\n",
        "print(inp_string.count('to'))\n",
        "print(inp_string.index('explore'))\n",
        "print(inp_string.split(\",\"))"
      ],
      "metadata": {
        "colab": {
          "base_uri": "https://localhost:8080/"
        },
        "id": "e0cplthpxygW",
        "outputId": "f3da5949-1a94-45fd-ece5-ba3c708013d2"
      },
      "execution_count": null,
      "outputs": [
        {
          "output_type": "stream",
          "name": "stdout",
          "text": [
            "Artemis missions aim to \"land the first woman and first person of colour on the Moon\", explore the lunar surface, and lay the groundwork for sending astronauts to Mars.\n",
            "artemis missions aim to \"land the first woman and first person of colour on the moon\", explore the lunar surface, and lay the groundwork for sending astronauts to mars.\n",
            "ARTEMIS MISSIONS AIM TO \"LAND THE FIRST WOMAN AND FIRST PERSON OF COLOUR ON THE MOON\", EXPLORE THE LUNAR SURFACE, AND LAY THE GROUNDWORK FOR SENDING ASTRONAUTS TO MARS.\n",
            "aRTEMIS MISSIONS AIM TO \"LAND THE FIRST WOMAN AND FIRST PERSON OF COLOUR ON THE mOON\", EXPLORE THE LUNAR SURFACE, AND LAY THE GROUNDWORK FOR SENDING ASTRONAUTS TO mARS.\n",
            "11\n",
            "2\n",
            "87\n",
            "['Artemis missions aim to \"land the first woman and first person of colour on the Moon\"', ' explore the lunar surface', ' and lay the groundwork for sending astronauts to Mars.']\n"
          ]
        }
      ]
    },
    {
      "cell_type": "code",
      "source": [
        "spam_mail = \"You have won an amount of 1 Million Dollar. Follow this simple Steps to CLAIM your prize!\"\n",
        "spam_mail = spam_mail.lower()\n",
        "if spam_mail.find('won') and spam_mail.find('claim'):\n",
        "  print('this is a spam mail')"
      ],
      "metadata": {
        "colab": {
          "base_uri": "https://localhost:8080/"
        },
        "id": "sh66GNt0yv8J",
        "outputId": "c5b11d3c-6c5b-41c0-fb6a-820a65a3c111"
      },
      "execution_count": null,
      "outputs": [
        {
          "output_type": "stream",
          "name": "stdout",
          "text": [
            "this is a spam mail\n"
          ]
        }
      ]
    },
    {
      "cell_type": "markdown",
      "source": [
        "7. Lists and Tuples\n",
        "\n",
        "List and Tuple can store different types of multiple objects\n",
        "\n",
        "list_dat = ['elements']\n",
        "\n",
        "tuple_dat = ('elements')\n",
        "\n",
        "In Python, there are different data types: string, integer, and float. This datatypes can be contained in lists and tuples.\n",
        "\n",
        "TUPLE"
      ],
      "metadata": {
        "id": "K88oKtA2z1xC"
      }
    },
    {
      "cell_type": "code",
      "source": [
        "#Defining a tuple\n",
        "Tuples = (10, 9, 8, 7, 6) #tuple of same data types\n",
        "Tuple1 = (20.4, 11, \"abcd4567\") #tuple of different data types\n",
        "print(Tuple1[1])"
      ],
      "metadata": {
        "colab": {
          "base_uri": "https://localhost:8080/"
        },
        "id": "AEXzJh-yzwXh",
        "outputId": "7861af61-f644-40d0-e8fc-b29bc8de6000"
      },
      "execution_count": null,
      "outputs": [
        {
          "output_type": "stream",
          "name": "stdout",
          "text": [
            "11\n"
          ]
        }
      ]
    },
    {
      "cell_type": "code",
      "source": [
        "#Combining Tuple\n",
        "Tuple2 = (56, \"Anaconda\")\n",
        "Tuple3 = Tuple1 + Tuple2 #like an append operation\n",
        "print(Tuple3) "
      ],
      "metadata": {
        "colab": {
          "base_uri": "https://localhost:8080/"
        },
        "id": "M94kkTuM0Jj7",
        "outputId": "ac27ca3d-18c9-4216-aacb-472b7599f48b"
      },
      "execution_count": null,
      "outputs": [
        {
          "output_type": "stream",
          "name": "stdout",
          "text": [
            "(20.4, 11, 'abcd4567', 56, 'Anaconda')\n"
          ]
        }
      ]
    },
    {
      "cell_type": "code",
      "source": [
        "#Slicing Tuples\n",
        "Tuple = Tuple1[0:2] #starting index to ending index\n",
        "print(Tuple)"
      ],
      "metadata": {
        "colab": {
          "base_uri": "https://localhost:8080/"
        },
        "id": "9hAo-dGi0gTK",
        "outputId": "de897b51-73a5-48e4-d5ea-dff54c6d9513"
      },
      "execution_count": null,
      "outputs": [
        {
          "output_type": "stream",
          "name": "stdout",
          "text": [
            "(20.4, 11)\n"
          ]
        }
      ]
    },
    {
      "cell_type": "code",
      "source": [
        "#Nesting\n",
        "NT = (3,8, (\"guitar\",\"piano\"), (\"sitar\",(45, 71)), (68,97))\n",
        "print(NT[2][1])"
      ],
      "metadata": {
        "colab": {
          "base_uri": "https://localhost:8080/"
        },
        "id": "Gb-Ysh8Q0l3F",
        "outputId": "8ab3d7de-3e4c-4b13-e415-582548838c2e"
      },
      "execution_count": null,
      "outputs": [
        {
          "output_type": "stream",
          "name": "stdout",
          "text": [
            "piano\n"
          ]
        }
      ]
    },
    {
      "cell_type": "markdown",
      "source": [
        "LIST"
      ],
      "metadata": {
        "id": "aR46zcd_0zCg"
      }
    },
    {
      "cell_type": "code",
      "source": [
        "#Defining a List\n",
        "List = [8, 6, 11, 14, 5]\n",
        "List1 = [5.6, 8, 7.9, (\"tree\", \"cloud\")]\n",
        "print(List[1])\n",
        "print(List1[2:4])"
      ],
      "metadata": {
        "colab": {
          "base_uri": "https://localhost:8080/"
        },
        "id": "uka3WMxX0wUw",
        "outputId": "580c5011-f5a6-4e6c-9258-ddd6371308c3"
      },
      "execution_count": null,
      "outputs": [
        {
          "output_type": "stream",
          "name": "stdout",
          "text": [
            "6\n",
            "[7.9, ('tree', 'cloud')]\n"
          ]
        }
      ]
    },
    {
      "cell_type": "code",
      "source": [
        "Lists = sorted(List)\n",
        "print(Lists)"
      ],
      "metadata": {
        "colab": {
          "base_uri": "https://localhost:8080/"
        },
        "id": "SUJpmKA803Fw",
        "outputId": "45e76436-b5d7-408d-e8df-dc7ca240b492"
      },
      "execution_count": null,
      "outputs": [
        {
          "output_type": "stream",
          "name": "stdout",
          "text": [
            "[5, 6, 8, 11, 14]\n"
          ]
        }
      ]
    },
    {
      "cell_type": "markdown",
      "source": [
        "Difference of List and Tuple"
      ],
      "metadata": {
        "id": "G2g3Nply1C3L"
      }
    },
    {
      "cell_type": "code",
      "source": [
        "list_1 = [8, 6, 'NASA', 'Atremis', 4.5]\n",
        "tuple_1 = (8, 6, 'NASA', 'Atremis', 4.5)"
      ],
      "metadata": {
        "id": "RJhjKary05BB"
      },
      "execution_count": null,
      "outputs": []
    },
    {
      "cell_type": "code",
      "source": [
        "list_1[2] = 10\n",
        "list_1"
      ],
      "metadata": {
        "colab": {
          "base_uri": "https://localhost:8080/"
        },
        "id": "xWPndb8h1JBb",
        "outputId": "146955f7-44a5-43ce-ffd2-8bdb071ecc69"
      },
      "execution_count": null,
      "outputs": [
        {
          "output_type": "execute_result",
          "data": {
            "text/plain": [
              "[8, 6, 10, 'Atremis', 4.5]"
            ]
          },
          "metadata": {},
          "execution_count": 81
        }
      ]
    },
    {
      "cell_type": "markdown",
      "source": [
        "List is Mutable and Tuple is immutable\n",
        "\n",
        "8. Dictionary\n",
        "\n",
        "The keys have to be immutable.\n",
        "\n",
        "The values can be immutable, mutable and duplicates\n",
        "\n",
        "Dictionaries are denoted with curly Brackets {}\n",
        "\n",
        "The key can be string, integer, list or tuple\n"
      ],
      "metadata": {
        "id": "cJoxNafC1SZ4"
      }
    },
    {
      "cell_type": "code",
      "source": [
        "#Creating a dictionary\n",
        "Dict = {\"A\": 56, \"B\": 98, \"C\" : \"Fire\", \"D\" : (10, 4)}\n",
        "print(Dict)"
      ],
      "metadata": {
        "colab": {
          "base_uri": "https://localhost:8080/"
        },
        "id": "DI2CzIbE1L2G",
        "outputId": "8bede58e-2ad4-4823-dd17-ecac6fe29767"
      },
      "execution_count": null,
      "outputs": [
        {
          "output_type": "stream",
          "name": "stdout",
          "text": [
            "{'A': 56, 'B': 98, 'C': 'Fire', 'D': (10, 4)}\n"
          ]
        }
      ]
    },
    {
      "cell_type": "code",
      "source": [
        "#Accessing value in a dictionary\n",
        "print(Dict[\"B\"])"
      ],
      "metadata": {
        "colab": {
          "base_uri": "https://localhost:8080/"
        },
        "id": "BYZbhAby1ggA",
        "outputId": "03c03a1e-3aa4-4d92-a5fa-4c406f5e7ed9"
      },
      "execution_count": null,
      "outputs": [
        {
          "output_type": "stream",
          "name": "stdout",
          "text": [
            "98\n"
          ]
        }
      ]
    },
    {
      "cell_type": "code",
      "source": [
        "#Deleting entries by key\n",
        "del(Dict[\"B\"])\n",
        "print(Dict)"
      ],
      "metadata": {
        "colab": {
          "base_uri": "https://localhost:8080/"
        },
        "id": "-P4BENq41jcO",
        "outputId": "4c0e426f-c338-4790-94ef-b719a2e669fa"
      },
      "execution_count": null,
      "outputs": [
        {
          "output_type": "stream",
          "name": "stdout",
          "text": [
            "{'A': 56, 'C': 'Fire', 'D': (10, 4)}\n"
          ]
        }
      ]
    },
    {
      "cell_type": "code",
      "source": [
        "#Sorting Tuples, the sorted tuple is stored in a list which is mutable\n",
        "Tuples = (10, 9, 8, 7, 6)\n",
        "Tuple = sorted(Tuples)\n",
        "Tuple[2] = 17\n",
        "Tuple"
      ],
      "metadata": {
        "colab": {
          "base_uri": "https://localhost:8080/"
        },
        "id": "gFFVZhPy1mKQ",
        "outputId": "8140cb8f-5971-4541-e201-b68758231daa"
      },
      "execution_count": null,
      "outputs": [
        {
          "output_type": "execute_result",
          "data": {
            "text/plain": [
              "[6, 7, 17, 9, 10]"
            ]
          },
          "metadata": {},
          "execution_count": 85
        }
      ]
    },
    {
      "cell_type": "markdown",
      "source": [
        "\n",
        "<h2 align=\"left\"><u>What are Conditional statements?</u> if-elif-else</h2>\n",
        "What are Conditional statements? if-elif-else"
      ],
      "metadata": {
        "id": "F7c2BfDc_KID"
      }
    },
    {
      "cell_type": "code",
      "source": [
        "# General structure\n",
        "\n",
        "# if result of condition1:\n",
        "#     statement(s)\n",
        "\n",
        "# elif condition2:\n",
        "#     statement(s)\n",
        "\n",
        "# elif condition3:\n",
        "#     statement(s)\n",
        "\n",
        "# ...\n",
        "\n",
        "# elif conditionN:\n",
        "#     statement(s)\n",
        "\n",
        "# else:\n",
        "#     statement(s)"
      ],
      "metadata": {
        "id": "qtIGlY1d1poj"
      },
      "execution_count": 1,
      "outputs": []
    },
    {
      "cell_type": "code",
      "source": [
        "a1 = 7\n",
        "a2 = 7\n",
        "\n",
        "if a1 > a2:\n",
        "    print('a1 is greater')\n",
        "elif a1 < a2:\n",
        "    print('a2 is greater')\n",
        "else:\n",
        "    print('a1 and a2 are equal')"
      ],
      "metadata": {
        "colab": {
          "base_uri": "https://localhost:8080/"
        },
        "id": "KZEXEiSp_TTt",
        "outputId": "4ed19309-bf74-4b3f-ffae-f6514f0259d1"
      },
      "execution_count": 2,
      "outputs": [
        {
          "output_type": "stream",
          "name": "stdout",
          "text": [
            "a1 and a2 are equal\n"
          ]
        }
      ]
    },
    {
      "cell_type": "code",
      "source": [
        "inp_1 = 123\n",
        "inp_2 = 342\n",
        "\n",
        "if inp_1 == inp_2:\n",
        "  print(\"both strings are equal\")\n",
        "else:\n",
        "  if inp_1 < inp_2:\n",
        "    print(\"inp_2 is greater than inp_1 with a difference \", inp_2 - inp_1)\n",
        "  else:\n",
        "    print(\"inp_2 is smaller than inp_1 with a difference \", inp_1 - inp_2)"
      ],
      "metadata": {
        "colab": {
          "base_uri": "https://localhost:8080/"
        },
        "id": "yV2ZHQwX_Zut",
        "outputId": "80411f40-084c-4490-ee76-fd8d3a856835"
      },
      "execution_count": 3,
      "outputs": [
        {
          "output_type": "stream",
          "name": "stdout",
          "text": [
            "inp_2 is greater than inp_1 with a difference  219\n"
          ]
        }
      ]
    },
    {
      "cell_type": "markdown",
      "source": [
        "Exercise 1: Write a program that takes an integer as input, and prints whether the number is odd or even."
      ],
      "metadata": {
        "id": "EPdqjvYK_e5N"
      }
    },
    {
      "cell_type": "code",
      "source": [
        "x = int(input(\"Enter an integer:\"))\n",
        "\n",
        "if x % 2 == 1:\n",
        "    print(x, 'is odd')\n",
        "else:\n",
        "    print(x, 'is even')"
      ],
      "metadata": {
        "colab": {
          "base_uri": "https://localhost:8080/"
        },
        "id": "7oQkayVs_ci1",
        "outputId": "16df6f18-b9d8-420c-dee2-601c05bb01e1"
      },
      "execution_count": 4,
      "outputs": [
        {
          "output_type": "stream",
          "name": "stdout",
          "text": [
            "Enter an integer:4\n",
            "4 is even\n"
          ]
        }
      ]
    },
    {
      "cell_type": "markdown",
      "source": [
        "Python Follows INDENTATIONS instead of bracket in C\n",
        "\n",
        "a. There are no braces {} in Python to demarcate blocks of code\n",
        "\n",
        "b. Indentations (whitespaces) demarcate blocks of code\n",
        "\n",
        "c. Changes in indentation mark where a block begins, and where it ends\n",
        "\n",
        "d. A common convention: 4 spaces (or 1 tab, which the editor converts to 4 spaces)"
      ],
      "metadata": {
        "id": "lR-D1hcT_oRs"
      }
    },
    {
      "cell_type": "code",
      "source": [
        "a1 = 10\n",
        "a2 = 20\n",
        "a3 = 30\n",
        "\n",
        "if a1 == 10:\n",
        "    if a2 == 10:\n",
        "        if a3 == 20:\n",
        "            print('ABCD')\n",
        "        else:\n",
        "            print('EFG')\n",
        "    else:\n",
        "        print('IJKL')\n",
        "else:\n",
        "    print('2023')"
      ],
      "metadata": {
        "colab": {
          "base_uri": "https://localhost:8080/"
        },
        "id": "ZJp3rw28_loR",
        "outputId": "89532f0a-a9d5-4414-8f57-a432345e3007"
      },
      "execution_count": 5,
      "outputs": [
        {
          "output_type": "stream",
          "name": "stdout",
          "text": [
            "IJKL\n"
          ]
        }
      ]
    },
    {
      "cell_type": "markdown",
      "source": [
        "8. Loops\n",
        "\n",
        "To do an action Repeatatively"
      ],
      "metadata": {
        "id": "pA9Wh9lL_4R3"
      }
    },
    {
      "cell_type": "code",
      "source": [
        "# range() - a function that performs an iterated operation \n",
        "# from first index to last index using a difference as step"
      ],
      "metadata": {
        "id": "BbCnwZMp_2KO"
      },
      "execution_count": 6,
      "outputs": []
    },
    {
      "cell_type": "markdown",
      "source": [
        "For Loop\n",
        "\n",
        "\n",
        "for index in range(starting index, last index, step):\n",
        "\n",
        "  do task"
      ],
      "metadata": {
        "id": "nS73JXtQANqb"
      }
    },
    {
      "cell_type": "code",
      "source": [
        "# range(t) : goes from 0 to t-1\n",
        "#Default step is 1\n",
        "for i in range(0, 5): # [0, 1, 2, 3, 4, 5]\n",
        "    print(i)"
      ],
      "metadata": {
        "colab": {
          "base_uri": "https://localhost:8080/"
        },
        "id": "SxY8T5wNALJp",
        "outputId": "07edef2b-cba5-4fda-b31c-3260fcf72d0c"
      },
      "execution_count": 8,
      "outputs": [
        {
          "output_type": "stream",
          "name": "stdout",
          "text": [
            "0\n",
            "1\n",
            "2\n",
            "3\n",
            "4\n"
          ]
        }
      ]
    },
    {
      "cell_type": "code",
      "source": [
        "# range(start, end, step_size)\n",
        "\n",
        "for i in range(2, 7,2):\n",
        "    print(i)"
      ],
      "metadata": {
        "colab": {
          "base_uri": "https://localhost:8080/"
        },
        "id": "3mjdpkEKAQ-J",
        "outputId": "361f1f3a-1320-4cd6-88e0-262daa24d19b"
      },
      "execution_count": 9,
      "outputs": [
        {
          "output_type": "stream",
          "name": "stdout",
          "text": [
            "2\n",
            "4\n",
            "6\n"
          ]
        }
      ]
    },
    {
      "cell_type": "code",
      "source": [
        "cnt = 0\n",
        "for i in range(5,10):\n",
        "    if cnt==3:\n",
        "      break\n",
        "    print(i)\n",
        "    cnt = cnt + 1"
      ],
      "metadata": {
        "colab": {
          "base_uri": "https://localhost:8080/"
        },
        "id": "Wk6eUZpgAdiI",
        "outputId": "983a950c-e848-43b9-ea73-d7f08935e1be"
      },
      "execution_count": 10,
      "outputs": [
        {
          "output_type": "stream",
          "name": "stdout",
          "text": [
            "5\n",
            "6\n",
            "7\n"
          ]
        }
      ]
    },
    {
      "cell_type": "code",
      "source": [
        "# Opposite step direction\n",
        "#### FORWARD DIRECTION\n",
        "for i in range(0,10,2):\n",
        "    print(i)\n",
        "    \n",
        "print('\\n')\n",
        "\n",
        "#### BACKWARD DIRECTION\n",
        "for i in range(8,-1,-2):\n",
        "    print(i)"
      ],
      "metadata": {
        "colab": {
          "base_uri": "https://localhost:8080/"
        },
        "id": "ail8Wq4-AhjB",
        "outputId": "4e103e69-e314-41b3-fefd-68e7e086777e"
      },
      "execution_count": 11,
      "outputs": [
        {
          "output_type": "stream",
          "name": "stdout",
          "text": [
            "0\n",
            "2\n",
            "4\n",
            "6\n",
            "8\n",
            "\n",
            "\n",
            "8\n",
            "6\n",
            "4\n",
            "2\n",
            "0\n"
          ]
        }
      ]
    },
    {
      "cell_type": "code",
      "source": [
        "# Iterate over strings\n",
        "\n",
        "str1 = 'the satellite'\n",
        "\n",
        "for i in str1:\n",
        "    print(i)"
      ],
      "metadata": {
        "colab": {
          "base_uri": "https://localhost:8080/"
        },
        "id": "Ei7utPVzAnbN",
        "outputId": "b18bff71-d1d9-421b-e4a0-dc7ec7793893"
      },
      "execution_count": 12,
      "outputs": [
        {
          "output_type": "stream",
          "name": "stdout",
          "text": [
            "t\n",
            "h\n",
            "e\n",
            " \n",
            "s\n",
            "a\n",
            "t\n",
            "e\n",
            "l\n",
            "l\n",
            "i\n",
            "t\n",
            "e\n"
          ]
        }
      ]
    },
    {
      "cell_type": "code",
      "source": [
        "# Iterate more explicitly:\n",
        "print(str1[6])"
      ],
      "metadata": {
        "colab": {
          "base_uri": "https://localhost:8080/"
        },
        "id": "4-ej3rkDArK-",
        "outputId": "0c8da5c0-8b71-4ceb-c526-38911e0a70db"
      },
      "execution_count": 13,
      "outputs": [
        {
          "output_type": "stream",
          "name": "stdout",
          "text": [
            "t\n"
          ]
        }
      ]
    },
    {
      "cell_type": "code",
      "source": [
        "for i in range(len(str1)):\n",
        "    print(i+1, str1[i])"
      ],
      "metadata": {
        "colab": {
          "base_uri": "https://localhost:8080/"
        },
        "id": "lZQFSTpBAvvR",
        "outputId": "92cbc400-e897-410b-ca02-74f351a6cc19"
      },
      "execution_count": 14,
      "outputs": [
        {
          "output_type": "stream",
          "name": "stdout",
          "text": [
            "1 t\n",
            "2 h\n",
            "3 e\n",
            "4  \n",
            "5 s\n",
            "6 a\n",
            "7 t\n",
            "8 e\n",
            "9 l\n",
            "10 l\n",
            "11 i\n",
            "12 t\n",
            "13 e\n"
          ]
        }
      ]
    },
    {
      "cell_type": "markdown",
      "source": [
        "While Loop\n",
        "\n",
        "while Condition:\n",
        "\n",
        "  Statement(s)"
      ],
      "metadata": {
        "id": "VdWUuAvtA1mu"
      }
    },
    {
      "cell_type": "code",
      "source": [
        "i = 0 #Initialzation of iterator (say i)\n",
        "\n",
        "while i <= 24: #Put the condition on the iterator / Starting from i = 0 ending in 24\n",
        "    print(i)\n",
        "    i += 4 #Increment of the iterator / step in For Loop"
      ],
      "metadata": {
        "colab": {
          "base_uri": "https://localhost:8080/"
        },
        "id": "W2QxKQvSAxm3",
        "outputId": "5762b24a-c921-4b8c-8c9e-86e1d40769d2"
      },
      "execution_count": 15,
      "outputs": [
        {
          "output_type": "stream",
          "name": "stdout",
          "text": [
            "0\n",
            "4\n",
            "8\n",
            "12\n",
            "16\n",
            "20\n",
            "24\n"
          ]
        }
      ]
    },
    {
      "cell_type": "markdown",
      "source": [
        "Exercise: Do these programs using for and while loops both\n",
        "\n",
        "Write a program to print the odd integers upto 100.\n",
        "\n",
        "Then COUNT for odd integers which are divisible by 3 when the odd number is greater than 50."
      ],
      "metadata": {
        "id": "1zBKdeNzA9g1"
      }
    },
    {
      "cell_type": "code",
      "source": [
        "i = 0\n",
        "count_odd = 0\n",
        "count = 0\n",
        "while i <= 100:\n",
        "    if i%2!=0:\n",
        "        count_odd = count_odd + 1\n",
        "        if i > 50 and i %3 ==0:\n",
        "          count = count + 1\n",
        "\n",
        "    i += 1\n",
        "print(\"Odd integers divisible by 3 within 50 to 100: \",count,\"\\nOdd integers within 0 to 100:\",count_odd)"
      ],
      "metadata": {
        "colab": {
          "base_uri": "https://localhost:8080/"
        },
        "id": "4KED8GjUA7lZ",
        "outputId": "5be0be01-7b19-420f-a71b-8c93a077bfd5"
      },
      "execution_count": 16,
      "outputs": [
        {
          "output_type": "stream",
          "name": "stdout",
          "text": [
            "Odd integers divisible by 3 within 50 to 100:  9 \n",
            "Odd integers within 0 to 100: 50\n"
          ]
        }
      ]
    },
    {
      "cell_type": "markdown",
      "source": [
        "9. break, continue"
      ],
      "metadata": {
        "id": "3LVTi3WXBLMT"
      }
    },
    {
      "cell_type": "code",
      "source": [
        "# break\n",
        "\n",
        "i = 0\n",
        "while True:\n",
        "    print(i)\n",
        "    i += 1\n",
        "    if i > 10:\n",
        "        break\n",
        "        \n",
        "print(i)"
      ],
      "metadata": {
        "colab": {
          "base_uri": "https://localhost:8080/"
        },
        "id": "Ty5FNuojBGlI",
        "outputId": "7380146b-5c9a-4399-f0ec-76d518e75511"
      },
      "execution_count": 17,
      "outputs": [
        {
          "output_type": "stream",
          "name": "stdout",
          "text": [
            "0\n",
            "1\n",
            "2\n",
            "3\n",
            "4\n",
            "5\n",
            "6\n",
            "7\n",
            "8\n",
            "9\n",
            "10\n",
            "11\n"
          ]
        }
      ]
    },
    {
      "cell_type": "code",
      "source": [
        "for i in range(15):\n",
        "    print(i)\n",
        "    if i > 10:\n",
        "        break"
      ],
      "metadata": {
        "colab": {
          "base_uri": "https://localhost:8080/"
        },
        "id": "SKI1EjbGBNwL",
        "outputId": "79505ae0-93c1-4391-8031-f0be9326bfb7"
      },
      "execution_count": 18,
      "outputs": [
        {
          "output_type": "stream",
          "name": "stdout",
          "text": [
            "0\n",
            "1\n",
            "2\n",
            "3\n",
            "4\n",
            "5\n",
            "6\n",
            "7\n",
            "8\n",
            "9\n",
            "10\n",
            "11\n"
          ]
        }
      ]
    },
    {
      "cell_type": "code",
      "source": [
        "# continue\n",
        "\n",
        "i = 0\n",
        "while True:\n",
        "#     continue\n",
        "    i += 1\n",
        "    if i > 20:\n",
        "        break\n",
        "    elif i <= 10:\n",
        "        print('before continue')\n",
        "        continue\n",
        "        print('something')\n",
        "        \n",
        "print(i)"
      ],
      "metadata": {
        "colab": {
          "base_uri": "https://localhost:8080/"
        },
        "id": "8MItb6KiBR8j",
        "outputId": "45997872-ad09-406d-89ad-71c1eea8f200"
      },
      "execution_count": 19,
      "outputs": [
        {
          "output_type": "stream",
          "name": "stdout",
          "text": [
            "before continue\n",
            "before continue\n",
            "before continue\n",
            "before continue\n",
            "before continue\n",
            "before continue\n",
            "before continue\n",
            "before continue\n",
            "before continue\n",
            "before continue\n",
            "21\n"
          ]
        }
      ]
    },
    {
      "cell_type": "markdown",
      "source": [
        "Algorithm:\n",
        "1. Input a starting and ending index from the user\n",
        "2. if difference between starting and ending index > 10\n",
        "    then check for even or odd upto difference 20\n",
        "    if odd then count the elements which are divisible by 3 and 5\n",
        "3. else go for a walk and print the elements"
      ],
      "metadata": {
        "id": "-urWpTzXBZYb"
      }
    },
    {
      "cell_type": "markdown",
      "source": [
        "10. Functions\n",
        "\n"
      ],
      "metadata": {
        "id": "HWHm4bO1BadF"
      }
    },
    {
      "cell_type": "code",
      "source": [
        "# Generic Structure of function in Python\n",
        "\n",
        "def functionName(argument1, argument2, argumentN):\n",
        "     statement(s)\n",
        "     return return1, return2, returnN\n",
        "\n",
        "# The function maynot return any value."
      ],
      "metadata": {
        "id": "lN-PtBR3BUQM"
      },
      "execution_count": 20,
      "outputs": []
    },
    {
      "cell_type": "code",
      "source": [
        "def addition(n1, n2):\n",
        "    add_result = n1 + n2\n",
        "    return add_result #add_result = n1+n2"
      ],
      "metadata": {
        "id": "L4yVehPKBhrZ"
      },
      "execution_count": 21,
      "outputs": []
    },
    {
      "cell_type": "code",
      "source": [
        "def substraction(n1, n2):\n",
        "    subs_result = n1 - n2\n",
        "    return subs_result #subs_result = n1-n2"
      ],
      "metadata": {
        "id": "bYR8wG10Df0J"
      },
      "execution_count": 22,
      "outputs": []
    },
    {
      "cell_type": "code",
      "source": [
        "def multiplication(n1, n2):\n",
        "    mult_result = n1 * n2\n",
        "    return mult_result #mult_result = n1*n2"
      ],
      "metadata": {
        "id": "bpScqlDxDim7"
      },
      "execution_count": 23,
      "outputs": []
    },
    {
      "cell_type": "code",
      "source": [
        "def division(n1, n2):\n",
        "    divide_result = n1 / n2\n",
        "    return divide_result #divide_result = n1/n2"
      ],
      "metadata": {
        "id": "2o2G5RvBDpf2"
      },
      "execution_count": 24,
      "outputs": []
    },
    {
      "cell_type": "code",
      "source": [
        "print(addition(20,15))"
      ],
      "metadata": {
        "colab": {
          "base_uri": "https://localhost:8080/"
        },
        "id": "Psgqy3YHDsPZ",
        "outputId": "82d330c4-4f32-4fd2-955f-5cdafffdc2a7"
      },
      "execution_count": 25,
      "outputs": [
        {
          "output_type": "stream",
          "name": "stdout",
          "text": [
            "35\n"
          ]
        }
      ]
    },
    {
      "cell_type": "code",
      "source": [
        "def list_of_my_functions(n1, n2):\n",
        "    functions = {\"add\": addition(n1, n2), \"substract\": substraction(n1,n2), \"multiply\": multiplication(n1,n2), \"divide\": division(n1,n2)}\n",
        "    for i in functions:\n",
        "        print(i, functions[i])\n",
        "#return functions"
      ],
      "metadata": {
        "id": "uaNvW8tWDuI2"
      },
      "execution_count": 26,
      "outputs": []
    },
    {
      "cell_type": "code",
      "source": [
        "list_of_my_functions(12, 8)"
      ],
      "metadata": {
        "colab": {
          "base_uri": "https://localhost:8080/"
        },
        "id": "vDDXHjVZDwza",
        "outputId": "4b079723-88c4-4ccd-c735-d3663066aab2"
      },
      "execution_count": 27,
      "outputs": [
        {
          "output_type": "stream",
          "name": "stdout",
          "text": [
            "add 20\n",
            "substract 4\n",
            "multiply 96\n",
            "divide 1.5\n"
          ]
        }
      ]
    },
    {
      "cell_type": "code",
      "source": [
        "#Creating a calculator with Addition, Substraction, Multiplication and Division Operation\n",
        "def calculator(n1, n2):\n",
        "    sum_, substract, multiplication, division = n1 + n2, n1-n2, n1*n2, n1/n2\n",
        "    print('Sum: ', sum_)\n",
        "    print('substract: ', substract)\n",
        "    print('multiplication: ', multiplication)\n",
        "    print('division: ', division)"
      ],
      "metadata": {
        "id": "Z3HF_z-xD2Yr"
      },
      "execution_count": 28,
      "outputs": []
    },
    {
      "cell_type": "code",
      "source": [
        "calculator(4,2)"
      ],
      "metadata": {
        "colab": {
          "base_uri": "https://localhost:8080/"
        },
        "id": "YjsjbwEED4hL",
        "outputId": "852b262c-396d-441f-8bf2-3732dfd95570"
      },
      "execution_count": 29,
      "outputs": [
        {
          "output_type": "stream",
          "name": "stdout",
          "text": [
            "Sum:  6\n",
            "substract:  2\n",
            "multiplication:  8\n",
            "division:  2.0\n"
          ]
        }
      ]
    },
    {
      "cell_type": "markdown",
      "source": [
        "Exercise: \n",
        "1. Write to program to make a calculator using function. \n",
        "2. Ask users to put the name of the operation that they want to perform. \n",
        "3. Next ask them to give the numbers for performing their chosen operations.\n",
        "4. Finally dispaly the result."
      ],
      "metadata": {
        "id": "xZLF0lKWEMDI"
      }
    },
    {
      "cell_type": "code",
      "source": [
        "#Function to check whether a number is even or not\n",
        "def even_1(n):\n",
        "    if n % 2 == 0:\n",
        "        is_even = True\n",
        "    else:\n",
        "        is_even = False\n",
        "    return is_even"
      ],
      "metadata": {
        "id": "3eLja11MD62_"
      },
      "execution_count": 30,
      "outputs": []
    },
    {
      "cell_type": "code",
      "source": [
        "#Purpose of this funtion is simiiar  to the last function \n",
        "def even_2(n):\n",
        "    is_even = (n % 2 == 0)\n",
        "    return is_even"
      ],
      "metadata": {
        "id": "T3xJqa8wEU3z"
      },
      "execution_count": 31,
      "outputs": []
    },
    {
      "cell_type": "code",
      "source": [
        "#Testing whether a given number is even or not\n",
        "\n",
        "n1 = 4\n",
        "print(even_1(n1))\n",
        "\n",
        "n2 = 7\n",
        "print(even_2(n2))"
      ],
      "metadata": {
        "colab": {
          "base_uri": "https://localhost:8080/"
        },
        "id": "64lnS8QvEXs2",
        "outputId": "db0346cd-6963-41f4-b39b-0b4bd0adf292"
      },
      "execution_count": 32,
      "outputs": [
        {
          "output_type": "stream",
          "name": "stdout",
          "text": [
            "True\n",
            "False\n"
          ]
        }
      ]
    },
    {
      "cell_type": "code",
      "source": [
        "#Let's have a fun calculator\n",
        "def fun_calculator(n1, n2):\n",
        "    return n1+n2, n1-n2, n1*n2, n1/n2, n1%n2, n1//n2, n1**n2\n",
        "\n",
        "a1 = 10\n",
        "a2 = 4\n",
        "print(fun_calculator(a1, a2))\n",
        "\n",
        "a3 = 20\n",
        "a4 = 4\n",
        "ret1, ret2, ret3, ret4, ret5, ret6, ret7 = fun_calculator(a3, a4)\n",
        "print(ret1, ret2, ret3, ret4, ret5, ret6, ret7)"
      ],
      "metadata": {
        "colab": {
          "base_uri": "https://localhost:8080/"
        },
        "id": "ziB2RikzEZt1",
        "outputId": "040f7469-4798-4f19-d6d9-19d9bfe603ca"
      },
      "execution_count": 33,
      "outputs": [
        {
          "output_type": "stream",
          "name": "stdout",
          "text": [
            "(14, 6, 40, 2.5, 2, 2, 10000)\n",
            "24 16 80 5.0 0 5 160000\n"
          ]
        }
      ]
    },
    {
      "cell_type": "code",
      "source": [
        "#Addition with default value set to n2 and n3\n",
        "\n",
        "def ADD(n1, n2=4, n3=5):\n",
        "    sum = n1+n2+n3\n",
        "    return sum"
      ],
      "metadata": {
        "id": "04hhHGXyEdY5"
      },
      "execution_count": 34,
      "outputs": []
    },
    {
      "cell_type": "code",
      "source": [
        "print(ADD(n1=58, n3=1))\n",
        "\n",
        "print(ADD(n1=55, n2=2))\n",
        "\n",
        "print(ADD(n1=54))\n",
        "\n",
        "print(ADD(n1=7, n2=10, n3=12))"
      ],
      "metadata": {
        "colab": {
          "base_uri": "https://localhost:8080/"
        },
        "id": "BOTPjLDdEfU_",
        "outputId": "de021b8b-1283-41b2-a3f1-cfa460b6f748"
      },
      "execution_count": 35,
      "outputs": [
        {
          "output_type": "stream",
          "name": "stdout",
          "text": [
            "63\n",
            "62\n",
            "63\n",
            "29\n"
          ]
        }
      ]
    },
    {
      "cell_type": "code",
      "source": [
        "# Setting the default exponent values to 1\n",
        "\n",
        "def power(x, p=1):\n",
        "    return x**p"
      ],
      "metadata": {
        "id": "Z_qNT3OmEipr"
      },
      "execution_count": 36,
      "outputs": []
    },
    {
      "cell_type": "code",
      "source": [
        "#Setting the exponent as default\n",
        "print(power(x=10))\n",
        "\n",
        "#Setting the exponent value to 3\n",
        "print(power(10, 3))"
      ],
      "metadata": {
        "colab": {
          "base_uri": "https://localhost:8080/"
        },
        "id": "FaZhnurLEmv4",
        "outputId": "928a5fd2-b95e-4c87-c084-38c8169225ab"
      },
      "execution_count": 37,
      "outputs": [
        {
          "output_type": "stream",
          "name": "stdout",
          "text": [
            "10\n",
            "1000\n"
          ]
        }
      ]
    },
    {
      "cell_type": "code",
      "source": [
        "# Default values MUST be filled from the right and hence results in an error\n",
        "\n",
        "def power(x=1,p):\n",
        "    return x**p\n",
        "\n",
        "print(power(10, 3))"
      ],
      "metadata": {
        "colab": {
          "base_uri": "https://localhost:8080/",
          "height": 131
        },
        "id": "CsvLyygNEqJs",
        "outputId": "4f1c515c-f1b6-4bd4-a3b9-935d351422fd"
      },
      "execution_count": 38,
      "outputs": [
        {
          "output_type": "error",
          "ename": "SyntaxError",
          "evalue": "ignored",
          "traceback": [
            "\u001b[0;36m  File \u001b[0;32m\"<ipython-input-38-8dcf58a0a352>\"\u001b[0;36m, line \u001b[0;32m3\u001b[0m\n\u001b[0;31m    def power(x=1,p):\u001b[0m\n\u001b[0m                  ^\u001b[0m\n\u001b[0;31mSyntaxError\u001b[0m\u001b[0;31m:\u001b[0m non-default argument follows default argument\n"
          ]
        }
      ]
    },
    {
      "cell_type": "markdown",
      "source": [
        "Simple Real Life Scenarios\n",
        "\n",
        "Spam Email Detection"
      ],
      "metadata": {
        "id": "4jlf9OjdE0SW"
      }
    },
    {
      "cell_type": "code",
      "source": [
        "def spam_checker(spam_mail):\n",
        "  spam_mail = spam_mail.lower()\n",
        "  if spam_mail.find('won') and spam_mail.find('claim'):\n",
        "    print('this is a spam mail')\n",
        "  else:\n",
        "    print('Not a spam Mail!')"
      ],
      "metadata": {
        "id": "Ue_1noCLEy8r"
      },
      "execution_count": 39,
      "outputs": []
    },
    {
      "cell_type": "code",
      "source": [
        "str_1 = \"You have won an amount of 1 Million Dollar. Follow this simple Steps to CLAIM your prize!\"\n",
        "spam_checker(str_1)"
      ],
      "metadata": {
        "colab": {
          "base_uri": "https://localhost:8080/"
        },
        "id": "7uuHlMvDE71M",
        "outputId": "93f1ef56-e534-4e67-c4bc-687737f71b8a"
      },
      "execution_count": 40,
      "outputs": [
        {
          "output_type": "stream",
          "name": "stdout",
          "text": [
            "this is a spam mail\n"
          ]
        }
      ]
    },
    {
      "cell_type": "markdown",
      "source": [
        "Tax Deduction System"
      ],
      "metadata": {
        "id": "YI0FU3i0E_TJ"
      }
    },
    {
      "cell_type": "code",
      "source": [
        "def slab2(net_sal):\n",
        "  return net_sal * .05  \n",
        "\n",
        "def slab3(net_sal):\n",
        "  return 12500 + net_sal * .10\n",
        "\n",
        "\n",
        "def slab4(net_sal):\n",
        "  return 37500 + net_sal * .15\n",
        "\n",
        "def slab5(net_sal):\n",
        "  return 75000 + net_sal * .20\n",
        "\n",
        "def slab6(net_sal):\n",
        "  return 125000 + net_sal * .25\n",
        "\n",
        "def slab7(net_sal):\n",
        "  return 187500 + net_sal * .30"
      ],
      "metadata": {
        "id": "8v4USQjOE9xk"
      },
      "execution_count": 41,
      "outputs": []
    },
    {
      "cell_type": "code",
      "source": [
        "def slab_checker(net_sal):\n",
        "  if net_sal < 250000:\n",
        "    print(\"Deducted Amount 0\")\n",
        "  elif net_sal > 250000 and net_sal < 500000:\n",
        "    print(\"Deducted Amount: \", slab2(net_sal))\n",
        "  elif net_sal > 500000 and net_sal <  750000:\n",
        "    print(\"Deducted Amount: \", slab3(net_sal))\n",
        "  elif net_sal > 750000 and net_sal <  1000000:\n",
        "    print(\"Deducted Amount: \", slab4(net_sal))\n",
        "  elif net_sal > 1000000 and net_sal <  1250000:\n",
        "    print(\"Deducted Amount: \", slab5(net_sal))\n",
        "  elif net_sal > 1250000 and net_sal <  1500000:\n",
        "    print(\"Deducted Amount: \", slab6(net_sal))\n",
        "  elif net_sal > 1500000:\n",
        "    print(\"Deducted Amount: \", slab7(net_sal))"
      ],
      "metadata": {
        "id": "kz7F8YifFFex"
      },
      "execution_count": 42,
      "outputs": []
    },
    {
      "cell_type": "code",
      "source": [
        "sal = float(input(\"Enter your Salary:\"))\n",
        "slab_checker(sal)"
      ],
      "metadata": {
        "colab": {
          "base_uri": "https://localhost:8080/"
        },
        "id": "KXpiLHr1FH2U",
        "outputId": "08f63149-fe08-4fdd-86d8-e6d3728bee6e"
      },
      "execution_count": 43,
      "outputs": [
        {
          "output_type": "stream",
          "name": "stdout",
          "text": [
            "Enter your Salary:50000\n",
            "Deducted Amount 0\n"
          ]
        }
      ]
    },
    {
      "cell_type": "markdown",
      "source": [
        "Restaurant Bill Payment System"
      ],
      "metadata": {
        "id": "HDh96e42Fdsm"
      }
    },
    {
      "cell_type": "code",
      "source": [
        "bill_amount = float(input(\"Enter the Bill Amount:\"))\n",
        "c_gst = s_gst = 0.025 * bill_amount\n",
        "print(\"C GST\", c_gst)\n",
        "print(\"S GST\", s_gst)\n",
        "choice = input(\"Do you want to pay Service charge? Y/N: \")\n",
        "if choice == 'Y':\n",
        "  service_charge = .07 * bill_amount\n",
        "  print(\"Service Charge\", service_charge)\n",
        "else:\n",
        "  service_charge = 0\n",
        "\n",
        "total_bill = service_charge + c_gst + s_gst + bill_amount\n",
        "print(\"Your bill amount is:\", total_bill)"
      ],
      "metadata": {
        "colab": {
          "base_uri": "https://localhost:8080/"
        },
        "id": "1hh-Mol1FLNY",
        "outputId": "894ec2f0-a9cc-4283-e47c-3ec98f8b0024"
      },
      "execution_count": 44,
      "outputs": [
        {
          "output_type": "stream",
          "name": "stdout",
          "text": [
            "Enter the Bill Amount:2200\n",
            "C GST 55.0\n",
            "S GST 55.0\n",
            "Do you want to pay Service charge? Y/N: y\n",
            "Your bill amount is: 2310.0\n"
          ]
        }
      ]
    },
    {
      "cell_type": "code",
      "source": [],
      "metadata": {
        "id": "0vevHN5NFtRL"
      },
      "execution_count": null,
      "outputs": []
    }
  ]
}